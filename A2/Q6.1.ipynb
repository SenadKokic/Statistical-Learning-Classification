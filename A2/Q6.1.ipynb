{
 "cells": [
  {
   "cell_type": "markdown",
   "metadata": {},
   "source": [
    "**a) Sasketchuan (incorrect)—Saskatchewan (correct)**\n",
    "\n",
    "Sasketchuan -> Sask**a**tchuan -> Saskatch**e**an -> Saskatche**w**an \n",
    "\n",
    "So, we have 2 substitutions, and 1 insertion. \n",
    "\n",
    "Therefore, the Levenshtein distance is 3. "
   ]
  },
  {
   "cell_type": "markdown",
   "metadata": {},
   "source": [
    "**b) dacquiri (incorrect)—daiquiri (correct)**\n",
    "\n",
    "dacquiri -> da**i**quiri\n",
    "\n",
    "So, we have 1 substitution only.\n",
    "\n",
    "Therefore, the Levenshtein distance is 1. "
   ]
  },
  {
   "cell_type": "markdown",
   "metadata": {},
   "source": [
    "**c) hors derves (incorrect)—hors d’oeuvres (correct)**\n",
    "\n",
    "hors derves -> hors d'erves -> hors d'**o**erves -> hors d'oe**u**ves -> hors d'oeuv**r**es\n",
    "\n",
    "So, we have 3 insertions, and 1 substitution. \n",
    "\n",
    "Therefore, the Levenshtein distance is 4. "
   ]
  }
 ],
 "metadata": {
  "language_info": {
   "name": "python"
  }
 },
 "nbformat": 4,
 "nbformat_minor": 2
}
