{
 "cells": [
  {
   "cell_type": "markdown",
   "metadata": {},
   "source": [
    "Considering the Lasso Minimization:\n",
    "$$\n",
    "\\frac{\\text{RSS}}{n} + \\lambda \\sum_{j = 1}^{p} \\left|\\beta_j\\right|\n",
    "$$\n",
    "Noting that this $L_1$ regularization penalizes large coefficients,\n",
    "\n",
    "a) The MSE on the test data ... **initially decreases and eventually increases again** \\\n",
    "b) The MSE on the training data ... **steadily increases** \\\n",
    "c) The irreducible error on the test data ... **remains constant** \\\n",
    "d) The squared bias on the test data ... **steadily increases** \\\n",
    "e) The variance on the test data ... **steadily decreases**"
   ]
  }
 ],
 "metadata": {
  "language_info": {
   "name": "python"
  }
 },
 "nbformat": 4,
 "nbformat_minor": 2
}
