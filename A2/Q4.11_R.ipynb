{
 "cells": [
  {
   "cell_type": "code",
   "execution_count": 2,
   "metadata": {
    "vscode": {
     "languageId": "r"
    }
   },
   "outputs": [
    {
     "name": "stderr",
     "output_type": "stream",
     "text": [
      "-- \u001b[1mAttaching core tidyverse packages\u001b[22m ------------------------ tidyverse 2.0.0 --\n",
      "\u001b[32mv\u001b[39m \u001b[34mdplyr    \u001b[39m 1.1.3     \u001b[32mv\u001b[39m \u001b[34mreadr    \u001b[39m 2.1.4\n",
      "\u001b[32mv\u001b[39m \u001b[34mforcats  \u001b[39m 1.0.0     \u001b[32mv\u001b[39m \u001b[34mstringr  \u001b[39m 1.5.0\n",
      "\u001b[32mv\u001b[39m \u001b[34mlubridate\u001b[39m 1.9.3     \u001b[32mv\u001b[39m \u001b[34mtibble   \u001b[39m 3.2.1\n",
      "\u001b[32mv\u001b[39m \u001b[34mpurrr    \u001b[39m 1.0.2     \u001b[32mv\u001b[39m \u001b[34mtidyr    \u001b[39m 1.3.0\n",
      "-- \u001b[1mConflicts\u001b[22m ------------------------------------------ tidyverse_conflicts() --\n",
      "\u001b[31mx\u001b[39m \u001b[34mdplyr\u001b[39m::\u001b[32mfilter()\u001b[39m masks \u001b[34mstats\u001b[39m::filter()\n",
      "\u001b[31mx\u001b[39m \u001b[34mdplyr\u001b[39m::\u001b[32mlag()\u001b[39m    masks \u001b[34mstats\u001b[39m::lag()\n",
      "\u001b[31mx\u001b[39m \u001b[34mpurrr\u001b[39m::\u001b[32mlift()\u001b[39m   masks \u001b[34mcaret\u001b[39m::lift()\n",
      "\u001b[36mi\u001b[39m Use the conflicted package (\u001b[3m\u001b[34m<http://conflicted.r-lib.org/>\u001b[39m\u001b[23m) to force all conflicts to become errors\n"
     ]
    }
   ],
   "source": [
    "library(caret)\n",
    "library(tidyverse)"
   ]
  },
  {
   "cell_type": "code",
   "execution_count": 10,
   "metadata": {
    "vscode": {
     "languageId": "r"
    }
   },
   "outputs": [],
   "source": [
    "# read in the dataset\n",
    "path = \"./Hunger Games DS.csv\"\n",
    "data = read.csv(path)\n",
    "# add a column to the dataframe to indicate whether they survived the first day\n",
    "surv_day1 = ifelse(data$survival_days > 1, 1, 0)\n",
    "# add a column to indicate if they had a name\n",
    "has_name = ifelse(data$name == \"unknown\", 0, 1)\n",
    "# change the name of the \"sex\" variate to \"female\"\n",
    "colnames(data)[4] = \"female\"\n",
    "# combine the dataframe with the new variables above\n",
    "data = cbind(data, surv_day1, has_name)"
   ]
  },
  {
   "cell_type": "code",
   "execution_count": 15,
   "metadata": {
    "vscode": {
     "languageId": "r"
    }
   },
   "outputs": [
    {
     "data": {
      "text/plain": [
       "\n",
       "Call:\n",
       "glm(formula = formula_reg, family = binomial, data = data)\n",
       "\n",
       "Coefficients:\n",
       "             Estimate Std. Error z value Pr(>|z|)\n",
       "(Intercept)  -21.4579    13.8648  -1.548    0.122\n",
       "female         1.1860     1.7692   0.670    0.503\n",
       "age            1.1814     0.8111   1.457    0.145\n",
       "volunteer      4.9915     3.0503   1.636    0.102\n",
       "has_name      23.8143  4145.1979   0.006    0.995\n",
       "\n",
       "(Dispersion parameter for binomial family taken to be 1)\n",
       "\n",
       "    Null deviance: 33.104  on 23  degrees of freedom\n",
       "Residual deviance: 11.422  on 19  degrees of freedom\n",
       "AIC: 21.422\n",
       "\n",
       "Number of Fisher Scoring iterations: 19\n"
      ]
     },
     "metadata": {},
     "output_type": "display_data"
    }
   ],
   "source": [
    "# set the formula for the regression\n",
    "formula_reg = surv_day1 ~ female + age + volunteer + has_name\n",
    "# do the regression\n",
    "model = glm(formula = formula_reg, data = data, family = binomial)\n",
    "summary(model)"
   ]
  },
  {
   "cell_type": "markdown",
   "metadata": {},
   "source": [
    "**a)** Unusual Output\n",
    "\n",
    "We see that the coefficient value of variate *has_name* is incredibly high, with incredibly high standard error to boot. \n",
    "\n",
    "Referring to Allison (2008), and the issue of *complete/quasi-complete separation*, if a single variate almost entirely predicts the target variable, it is said to be quasi-complete. As we can see from the data itself:"
   ]
  },
  {
   "cell_type": "code",
   "execution_count": 18,
   "metadata": {
    "vscode": {
     "languageId": "r"
    }
   },
   "outputs": [
    {
     "data": {
      "text/html": [
       "<table class=\"dataframe\">\n",
       "<caption>A matrix: 24 × 2 of type dbl</caption>\n",
       "<tbody>\n",
       "\t<tr><td>1</td><td>1</td></tr>\n",
       "\t<tr><td>1</td><td>1</td></tr>\n",
       "\t<tr><td>1</td><td>1</td></tr>\n",
       "\t<tr><td>1</td><td>1</td></tr>\n",
       "\t<tr><td>1</td><td>0</td></tr>\n",
       "\t<tr><td>0</td><td>0</td></tr>\n",
       "\t<tr><td>0</td><td>0</td></tr>\n",
       "\t<tr><td>1</td><td>0</td></tr>\n",
       "\t<tr><td>0</td><td>0</td></tr>\n",
       "\t<tr><td>1</td><td>1</td></tr>\n",
       "\t<tr><td>0</td><td>0</td></tr>\n",
       "\t<tr><td>0</td><td>0</td></tr>\n",
       "\t<tr><td>0</td><td>0</td></tr>\n",
       "\t<tr><td>0</td><td>0</td></tr>\n",
       "\t<tr><td>0</td><td>0</td></tr>\n",
       "\t<tr><td>1</td><td>0</td></tr>\n",
       "\t<tr><td>0</td><td>0</td></tr>\n",
       "\t<tr><td>0</td><td>0</td></tr>\n",
       "\t<tr><td>1</td><td>0</td></tr>\n",
       "\t<tr><td>0</td><td>0</td></tr>\n",
       "\t<tr><td>1</td><td>1</td></tr>\n",
       "\t<tr><td>1</td><td>1</td></tr>\n",
       "\t<tr><td>1</td><td>1</td></tr>\n",
       "\t<tr><td>1</td><td>1</td></tr>\n",
       "</tbody>\n",
       "</table>\n"
      ],
      "text/latex": [
       "A matrix: 24 × 2 of type dbl\n",
       "\\begin{tabular}{ll}\n",
       "\t 1 & 1\\\\\n",
       "\t 1 & 1\\\\\n",
       "\t 1 & 1\\\\\n",
       "\t 1 & 1\\\\\n",
       "\t 1 & 0\\\\\n",
       "\t 0 & 0\\\\\n",
       "\t 0 & 0\\\\\n",
       "\t 1 & 0\\\\\n",
       "\t 0 & 0\\\\\n",
       "\t 1 & 1\\\\\n",
       "\t 0 & 0\\\\\n",
       "\t 0 & 0\\\\\n",
       "\t 0 & 0\\\\\n",
       "\t 0 & 0\\\\\n",
       "\t 0 & 0\\\\\n",
       "\t 1 & 0\\\\\n",
       "\t 0 & 0\\\\\n",
       "\t 0 & 0\\\\\n",
       "\t 1 & 0\\\\\n",
       "\t 0 & 0\\\\\n",
       "\t 1 & 1\\\\\n",
       "\t 1 & 1\\\\\n",
       "\t 1 & 1\\\\\n",
       "\t 1 & 1\\\\\n",
       "\\end{tabular}\n"
      ],
      "text/markdown": [
       "\n",
       "A matrix: 24 × 2 of type dbl\n",
       "\n",
       "| 1 | 1 |\n",
       "| 1 | 1 |\n",
       "| 1 | 1 |\n",
       "| 1 | 1 |\n",
       "| 1 | 0 |\n",
       "| 0 | 0 |\n",
       "| 0 | 0 |\n",
       "| 1 | 0 |\n",
       "| 0 | 0 |\n",
       "| 1 | 1 |\n",
       "| 0 | 0 |\n",
       "| 0 | 0 |\n",
       "| 0 | 0 |\n",
       "| 0 | 0 |\n",
       "| 0 | 0 |\n",
       "| 1 | 0 |\n",
       "| 0 | 0 |\n",
       "| 0 | 0 |\n",
       "| 1 | 0 |\n",
       "| 0 | 0 |\n",
       "| 1 | 1 |\n",
       "| 1 | 1 |\n",
       "| 1 | 1 |\n",
       "| 1 | 1 |\n",
       "\n"
      ],
      "text/plain": [
       "      [,1] [,2]\n",
       " [1,] 1    1   \n",
       " [2,] 1    1   \n",
       " [3,] 1    1   \n",
       " [4,] 1    1   \n",
       " [5,] 1    0   \n",
       " [6,] 0    0   \n",
       " [7,] 0    0   \n",
       " [8,] 1    0   \n",
       " [9,] 0    0   \n",
       "[10,] 1    1   \n",
       "[11,] 0    0   \n",
       "[12,] 0    0   \n",
       "[13,] 0    0   \n",
       "[14,] 0    0   \n",
       "[15,] 0    0   \n",
       "[16,] 1    0   \n",
       "[17,] 0    0   \n",
       "[18,] 0    0   \n",
       "[19,] 1    0   \n",
       "[20,] 0    0   \n",
       "[21,] 1    1   \n",
       "[22,] 1    1   \n",
       "[23,] 1    1   \n",
       "[24,] 1    1   "
      ]
     },
     "metadata": {},
     "output_type": "display_data"
    }
   ],
   "source": [
    "cbind(data$surv_day1, data$has_name)"
   ]
  },
  {
   "cell_type": "markdown",
   "metadata": {},
   "source": [
    "The has_name variate almost perfectly predicts the survival of day 1 on its own. This makes total sense with regards to the dataset itself - if a character has a name in the book, they are likely to survive as their presence is essential towards the plot. If a character doesn't have a name, it is likely that they are simply fodder for the first chapter set in the games themselves. \n",
    "\n",
    "(Yet another reason why this book is a phony Battle Royale ripoff, but I digress)"
   ]
  },
  {
   "cell_type": "markdown",
   "metadata": {},
   "source": [
    "**b)** Discussion of x-variates\n",
    "\n",
    "Seeing as we can't exactly use $p$-values as a reliable metric due to the lack of convergence, we'll use the odds ratio ($e^{\\beta_i}$). \n",
    "\n",
    "Looking at all of the coefficients, it seems that there aren't any that actually reduce your odds of survival (should we have had negative coefficients, this would not be the case). Now, with all other variables held constant...\n",
    "\n",
    "- $\\beta_{\\text{female}} = 1.1860 \\implies e^{\\beta_{\\text{female}}} \\approx 3.27$ - it is implied that being female increases your odds of survival by roughly 3.27 times compared to being a male, **with all other variables held constant**\n",
    "- $\\beta_{\\text{age}} = 1.1814 \\implies e^{\\beta_{\\text{age}}} \\approx 3.26$ - it is implied that one additional year of age will increase your odds of survival by 3.26 times, **with all other variables held constant**\n",
    "    - With the exception of Rue (who got hard carried by Katniss during the games), most of the extremely young participants died on the first day. With a more matured body comes better adaptability for such a game. \n",
    "- $\\beta_{\\text{volunteer}} = 4.9915 \\implies e^{\\beta_{\\text{volunteer}}} \\approx 147.16$ - it is implied that volunteering to compete increases your odds of survival by roughly 147.16 times, **with all other variables held constant**. \n",
    "    - This makes sense, as those who volunteered as tributes had an average survival length of 9.625 days, with one of the winners of the games, Katniss, being a volunteer herself. This is in contrast to the average survival time of those who did not volunteer - 4.875. If you volunteer to participate in a death game, you are pretty likely to do well in said death game compared to those who just get thrown in. "
   ]
  }
 ],
 "metadata": {
  "kernelspec": {
   "display_name": "R",
   "language": "R",
   "name": "ir"
  },
  "language_info": {
   "codemirror_mode": "r",
   "file_extension": ".r",
   "mimetype": "text/x-r-source",
   "name": "R",
   "pygments_lexer": "r",
   "version": "4.3.1"
  }
 },
 "nbformat": 4,
 "nbformat_minor": 2
}
