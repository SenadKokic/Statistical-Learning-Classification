{
 "cells": [
  {
   "cell_type": "code",
   "execution_count": 1,
   "metadata": {
    "vscode": {
     "languageId": "r"
    }
   },
   "outputs": [
    {
     "data": {
      "text/html": [
       "0.801027957729363"
      ],
      "text/latex": [
       "0.801027957729363"
      ],
      "text/markdown": [
       "0.801027957729363"
      ],
      "text/plain": [
       "[1] 0.801028"
      ]
     },
     "metadata": {},
     "output_type": "display_data"
    }
   ],
   "source": [
    "-(1 / 2)*((3/4)*log(3/4) + (1/4)*log(1/4) + 0) -(1 / 2)*((1/2)*log(1/2) + (1/4)*log(1/4) + (1/4)*log(1/4))"
   ]
  },
  {
   "cell_type": "code",
   "execution_count": 2,
   "metadata": {
    "vscode": {
     "languageId": "r"
    }
   },
   "outputs": [
    {
     "data": {
      "text/html": [
       "0.877899605085791"
      ],
      "text/latex": [
       "0.877899605085791"
      ],
      "text/markdown": [
       "0.877899605085791"
      ],
      "text/plain": [
       "[1] 0.8778996"
      ]
     },
     "metadata": {},
     "output_type": "display_data"
    }
   ],
   "source": [
    "-(3 / 4)*((2/3)*log(2/3) + (1/4)*log(1/4) + (1/12)*log(1/12)) -(1 / 4)*((1/2)*log(1/2) + (1/4)*log(1/4) + (1/4)*log(1/4))"
   ]
  },
  {
   "cell_type": "code",
   "execution_count": 3,
   "metadata": {
    "vscode": {
     "languageId": "r"
    }
   },
   "outputs": [
    {
     "data": {
      "text/html": [
       "0.0641975308641975"
      ],
      "text/latex": [
       "0.0641975308641975"
      ],
      "text/markdown": [
       "0.0641975308641975"
      ],
      "text/plain": [
       "[1] 0.06419753"
      ]
     },
     "metadata": {},
     "output_type": "display_data"
    },
    {
     "data": {
      "text/html": [
       "0.00983483971649652"
      ],
      "text/latex": [
       "0.00983483971649652"
      ],
      "text/markdown": [
       "0.00983483971649652"
      ],
      "text/plain": [
       "[1] 0.00983484"
      ]
     },
     "metadata": {},
     "output_type": "display_data"
    }
   ],
   "source": [
    "(13/24)*(10/15)*(8/15)*(10/16)*(8/15)\n",
    "(11/24)*(1/13)*(6/13)*(10/14)*(11/13)"
   ]
  },
  {
   "cell_type": "code",
   "execution_count": null,
   "metadata": {
    "vscode": {
     "languageId": "r"
    }
   },
   "outputs": [],
   "source": []
  }
 ],
 "metadata": {
  "kernelspec": {
   "display_name": "R",
   "language": "R",
   "name": "ir"
  },
  "language_info": {
   "codemirror_mode": "r",
   "file_extension": ".r",
   "mimetype": "text/x-r-source",
   "name": "R",
   "pygments_lexer": "r",
   "version": "4.3.1"
  }
 },
 "nbformat": 4,
 "nbformat_minor": 2
}
